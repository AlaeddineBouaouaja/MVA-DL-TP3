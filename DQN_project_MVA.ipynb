{
 "cells": [
  {
   "cell_type": "markdown",
   "metadata": {},
   "source": [
    "**You may need to install [OpenCV](https://pypi.python.org/pypi/opencv-python) and [scikit-video](http://www.scikit-video.org/stable/).**"
   ]
  },
  {
   "cell_type": "code",
   "execution_count": 28,
   "metadata": {},
   "outputs": [],
   "source": [
    "import keras\n",
    "import numpy as np\n",
    "import io\n",
    "import base64\n",
    "from IPython.display import HTML\n",
    "import skvideo.io\n",
    "import cv2\n",
    "import json\n",
    "\n",
    "from keras.models import Sequential,model_from_json\n",
    "from keras.layers.core import Dense\n",
    "from keras.optimizers import sgd,Adam\n",
    "from keras.layers import Conv2D, MaxPooling2D, Activation, AveragePooling2D,Reshape,BatchNormalization,Flatten"
   ]
  },
  {
   "cell_type": "markdown",
   "metadata": {},
   "source": [
    "# MiniProject #3: Deep Reinforcement Learning \n",
    "\n",
    "# Pirashanth RATNAMOGAN - MVA 2018"
   ]
  },
  {
   "cell_type": "markdown",
   "metadata": {},
   "source": [
    "__Notations__: $E_p$ is the expectation under probability $p$. Please justify each of your answer and widely comment your code."
   ]
  },
  {
   "cell_type": "markdown",
   "metadata": {},
   "source": [
    "# Context"
   ]
  },
  {
   "cell_type": "markdown",
   "metadata": {},
   "source": [
    "In a reinforcement learning algorithm, we modelize each step $t$ as an action $a_t$ obtained from a state $s_t$, i.e. $\\{(a_{t},s_{t})_{t\\leq T}\\}$ having the Markov property. We consider a discount factor $\\gamma \\in [0,1]$ that ensures convergence. The goal is to find among all the policies $\\pi$, one that maximizes the expected reward:\n",
    "\n",
    "\\begin{equation*}\n",
    "R(\\pi)=\\sum_{t\\leq T}E_{p^{\\pi}}[\\gamma^t r(s_{t},a_{t})] \\> ,\n",
    "\\end{equation*}\n",
    "\n",
    "where: \n",
    "\\begin{equation*}p^{\\pi}(a_{0},a_{1},s_{1},...,a_{T},s_{T})=p(a_{0})\\prod_{t=1}^{T}\\pi(a_{t}|s_{t})p(s_{t+1}|s_{t},a_{t}) \\> .\n",
    "\\end{equation*}\n",
    "\n",
    "We note the $Q$-function:\n",
    "\n",
    "\\begin{equation*}Q^\\pi(s,a)=E_{p^{\\pi}}[\\sum_{t\\leq T}\\gamma^{t}r(s_{t},a_{t})|s_{0}=s,a_{0}=a] \\> .\n",
    "\\end{equation*}\n",
    "\n",
    "Thus, the optimal Q function is:\n",
    "\\begin{equation*}\n",
    "Q^*(s,a)=\\max_{\\pi}Q^\\pi(s,a) \\> .\n",
    "\\end{equation*}\n",
    "\n",
    "In this project, we will apply the deep reinforcement learning techniques to a simple game: an agent will have to learn from scratch a policy that will permit it maximizing a reward."
   ]
  },
  {
   "cell_type": "markdown",
   "metadata": {},
   "source": [
    "## The environment, the agent and the game"
   ]
  },
  {
   "cell_type": "markdown",
   "metadata": {},
   "source": [
    "### The environment"
   ]
  },
  {
   "cell_type": "markdown",
   "metadata": {},
   "source": [
    "```Environment``` is an abstract class that represents the states, rewards, and actions to obtain the new state."
   ]
  },
  {
   "cell_type": "code",
   "execution_count": 29,
   "metadata": {},
   "outputs": [],
   "source": [
    "class Environment(object):\n",
    "    def __init__(self):\n",
    "        pass\n",
    "\n",
    "    def act(self, act):\n",
    "        \"\"\"\n",
    "        One can act on the environment and obtain its reaction:\n",
    "        - the new state\n",
    "        - the reward of the new state\n",
    "        - should we continue the game?\n",
    "\n",
    "        :return: state, reward, game_over\n",
    "        \"\"\"\n",
    "        pass\n",
    "\n",
    "\n",
    "    def reset(self):\n",
    "        \"\"\"\n",
    "        Reinitialize the environment to a random state and returns\n",
    "        the original state\n",
    "\n",
    "        :return: state\n",
    "        \"\"\"\n",
    "        pass\n",
    "    \n",
    "    def draw(self):\n",
    "        \"\"\"\n",
    "        Visualize in the console or graphically the current state\n",
    "        \"\"\"\n",
    "        pass"
   ]
  },
  {
   "cell_type": "markdown",
   "metadata": {},
   "source": [
    "The method ```act``` allows to act on the environment at a given state $s_t$ (stored internally), via action $a_t$. The method will return the new state $s_{t+1}$, the reward $r(s_{t},a_{t})$ and determines if $t\\leq T$ (*game_over*).\n",
    "\n",
    "The method ```reset``` simply reinitializes the environment to a random state $s_0$.\n",
    "\n",
    "The method ```draw``` displays the current state $s_t$ (this is useful to check the behavior of the Agent).\n",
    "\n",
    "We modelize $s_t$ as a tensor, while $a_t$ is an integer."
   ]
  },
  {
   "cell_type": "markdown",
   "metadata": {},
   "source": [
    "### The Agent"
   ]
  },
  {
   "cell_type": "markdown",
   "metadata": {},
   "source": [
    "The goal of the ```Agent``` is to interact with the ```Environment``` by proposing actions $a_t$ obtained from a given state $s_t$ to attempt to maximize its __reward__ $r(s_t,a_t)$. We propose the following abstract class:"
   ]
  },
  {
   "cell_type": "code",
   "execution_count": 30,
   "metadata": {},
   "outputs": [],
   "source": [
    "class Agent(object):\n",
    "    def __init__(self, epsilon=0.1, n_action=4):\n",
    "        self.epsilon = epsilon\n",
    "        self.n_action = n_action\n",
    "    \n",
    "    def set_epsilon(self,e):\n",
    "        self.epsilon = e\n",
    "\n",
    "    def act(self,s,train=True):\n",
    "        \"\"\" This function should return the next action to do:\n",
    "        an integer between 0 and 4 (not included) with a random exploration of epsilon\"\"\"\n",
    "        if train:\n",
    "            if np.random.rand() <= self.epsilon:\n",
    "                a = np.random.randint(0, self.n_action, size=1)[0]\n",
    "            else:\n",
    "                a = self.learned_act(s)\n",
    "        else: # in some cases, this can improve the performance.. remove it if poor performances\n",
    "            a = self.learned_act(s)\n",
    "\n",
    "        return a\n",
    "\n",
    "    def learned_act(self,s):\n",
    "        \"\"\" Act via the policy of the agent, from a given state s\n",
    "        it proposes an action a\"\"\"\n",
    "        pass\n",
    "\n",
    "    def reinforce(self, s, n_s, a, r, game_over_):\n",
    "        \"\"\" This function is the core of the learning algorithm. \n",
    "        It takes as an input the current state s_, the next state n_s_\n",
    "        the action a_ used to move from s_ to n_s_ and the reward r_.\n",
    "        \n",
    "        Its goal is to learn a policy.\n",
    "        \"\"\"\n",
    "        pass\n",
    "\n",
    "    def save(self):\n",
    "        \"\"\" This function returns basic stats if applicable: the\n",
    "        loss and/or the model\"\"\"\n",
    "        pass\n",
    "\n",
    "    def load(self):\n",
    "        \"\"\" This function allows to restore a model\"\"\"\n",
    "        pass"
   ]
  },
  {
   "cell_type": "markdown",
   "metadata": {},
   "source": [
    "***\n",
    "__Question 1__:\n",
    "Explain the function act. Why is ```epsilon``` essential?"
   ]
  },
  {
   "cell_type": "markdown",
   "metadata": {},
   "source": [
    "Epsilon controls the exploration-exploitation trade-off. The function act ensures that with a probability $\\epsilon$ the agent explores the action space and with a probability $1-\\epsilon$ it exploits its discoveries. Epsilon is essential since, from one hand, the agent must explore the action space in order to learn about them and increase its chances to get a future reward. \n",
    "\n",
    "Note that, the function act also introduces a pure exploitation strategy ($\\epsilon=0$) when using train=False. In this case, we will follow the action based on what we have learned only. \n",
    "If $\\epsilon=1$, we will act randomly at each time step. This parameter is essential and must be setted carefully.\n",
    "\n",
    "In order to not make the actions being too biased by the past during the training phase, the epsilon parameter allows to keep letting a chance to all the actions to improve how they are perceived from our algorithm that's why epsilon is essential."
   ]
  },
  {
   "cell_type": "markdown",
   "metadata": {},
   "source": [
    "***\n",
    "### The Game"
   ]
  },
  {
   "cell_type": "markdown",
   "metadata": {},
   "source": [
    "The ```Agent``` and the ```Environment``` work in an interlaced way as in the following (take some time to understand this code as it is the core of the project)\n",
    "\n",
    "```python\n",
    "\n",
    "epoch = 300\n",
    "env = Environment()\n",
    "agent = Agent()\n",
    "\n",
    "\n",
    "# Number of won games\n",
    "score = 0\n",
    "loss = 0\n",
    "\n",
    "\n",
    "for e in range(epoch):\n",
    "    # At each epoch, we restart to a fresh game and get the initial state\n",
    "    state = env.reset()\n",
    "    # This assumes that the games will end\n",
    "    game_over = False\n",
    "\n",
    "    win = 0\n",
    "    lose = 0\n",
    "    \n",
    "    while not game_over:\n",
    "        # The agent performs an action\n",
    "        action = agent.act(state)\n",
    "\n",
    "        # Apply an action to the environment, get the next state, the reward\n",
    "        # and if the games end\n",
    "        prev_state = state\n",
    "        state, reward, game_over = env.act(action)\n",
    "\n",
    "        # Update the counters\n",
    "        if reward > 0:\n",
    "            win = win + reward\n",
    "        if reward < 0:\n",
    "            lose = lose -reward\n",
    "\n",
    "        # Apply the reinforcement strategy\n",
    "        loss = agent.reinforce(prev_state, state,  action, reward, game_over)\n",
    "\n",
    "    # Save as a mp4\n",
    "    if e % 10 == 0:\n",
    "        env.draw(e)\n",
    "\n",
    "    # Update stats\n",
    "    score += win-lose\n",
    "\n",
    "    print(\"Epoch {:03d}/{:03d} | Loss {:.4f} | Win/lose count {}/{} ({})\"\n",
    "          .format(e, epoch, loss, win, lose, win-lose))\n",
    "    agent.save()\n",
    "```"
   ]
  },
  {
   "cell_type": "markdown",
   "metadata": {},
   "source": [
    "# The game, *eat cheese*"
   ]
  },
  {
   "cell_type": "markdown",
   "metadata": {},
   "source": [
    "A rat runs on an island and tries to eat as much as possible. The island is subdivided into $N\\times N$ cells, in which there are cheese (+0.5) and poisonous cells (-1). The rat has a visibility of 2 cells (thus it can see $5^2$ cells). The rat is given a time $T$ to accumulate as much food as possible. It can perform 4 actions: going up, down, left, right. \n",
    "\n",
    "The goal is to code an agent to solve this task that will learn by trial and error. We propose the following environment:"
   ]
  },
  {
   "cell_type": "code",
   "execution_count": 31,
   "metadata": {},
   "outputs": [],
   "source": [
    "class Environment(object):\n",
    "    def __init__(self, grid_size=10, max_time=500, temperature=0.1):\n",
    "        grid_size = grid_size+4\n",
    "        self.grid_size = grid_size\n",
    "        self.max_time = max_time\n",
    "        self.temperature = temperature\n",
    "\n",
    "        #board on which one plays\n",
    "        self.board = np.zeros((grid_size,grid_size))\n",
    "        self.position = np.zeros((grid_size,grid_size))\n",
    "\n",
    "        # coordinate of the cat\n",
    "        self.x = 0\n",
    "        self.y = 1\n",
    "\n",
    "        # self time\n",
    "        self.t = 0\n",
    "\n",
    "        self.scale=16\n",
    "\n",
    "        self.to_draw = np.zeros((max_time+2, grid_size*self.scale, grid_size*self.scale, 3))\n",
    "\n",
    "\n",
    "    def draw(self,e):\n",
    "        skvideo.io.vwrite(str(e) + '.mp4', self.to_draw)\n",
    "\n",
    "    def get_frame(self,t):\n",
    "        b = np.zeros((self.grid_size,self.grid_size,3))+128\n",
    "        b[self.board>0,0] = 256\n",
    "        b[self.board < 0, 2] = 256\n",
    "        b[self.x,self.y,:]=256\n",
    "        b[-2:,:,:]=0\n",
    "        b[:,-2:,:]=0\n",
    "        b[:2,:,:]=0\n",
    "        b[:,:2,:]=0 #Correct typo here\n",
    "        \n",
    "        b =  cv2.resize(b, None, fx=self.scale, fy=self.scale, interpolation=cv2.INTER_NEAREST)\n",
    "\n",
    "        self.to_draw[t,:,:,:]=b\n",
    "\n",
    "\n",
    "    def act(self, action):\n",
    "        \"\"\"This function returns the new state, reward and decides if the\n",
    "        game ends.\"\"\"\n",
    "\n",
    "        self.get_frame(int(self.t))\n",
    "\n",
    "        self.position = np.zeros((self.grid_size, self.grid_size))\n",
    "\n",
    "        self.position[0:2,:]= -1\n",
    "        self.position[:,0:2] = -1\n",
    "        self.position[-2:, :] = -1\n",
    "        self.position[:, -2:] = -1 #Correct typo here\n",
    "\n",
    "        self.position[self.x, self.y] = 1\n",
    "        if action == 0:\n",
    "            if self.x == self.grid_size-3:\n",
    "                self.x = self.x-1\n",
    "            else:\n",
    "                self.x = self.x + 1\n",
    "        elif action == 1:\n",
    "            if self.x == 2:\n",
    "                self.x = self.x+1\n",
    "            else:\n",
    "                self.x = self.x-1\n",
    "        elif action == 2:\n",
    "            if self.y == self.grid_size - 3:\n",
    "                self.y = self.y - 1\n",
    "            else:\n",
    "                self.y = self.y + 1\n",
    "        elif action == 3:\n",
    "            if self.y == 2:\n",
    "                self.y = self.y + 1\n",
    "            else:\n",
    "                self.y = self.y - 1\n",
    "        else:\n",
    "            RuntimeError('Error: action not recognized')\n",
    "\n",
    "        self.t = self.t + 1\n",
    "        reward = self.board[self.x, self.y]\n",
    "        self.board[self.x, self.y] = 0\n",
    "        game_over = self.t > self.max_time\n",
    "        state = np.concatenate((self.board.reshape(self.grid_size, self.grid_size,1),\n",
    "                        self.position.reshape(self.grid_size, self.grid_size,1)),axis=2)\n",
    "        state = state[self.x-2:self.x+3,self.y-2:self.y+3,:]\n",
    "\n",
    "        return state, reward, game_over\n",
    "\n",
    "    def reset(self):\n",
    "        \"\"\"This function resets the game and returns the initial state\"\"\"\n",
    "\n",
    "        self.x = np.random.randint(3, self.grid_size-3, size=1)[0]\n",
    "        self.y = np.random.randint(3, self.grid_size-3, size=1)[0]\n",
    "\n",
    "\n",
    "        bonus = 0.5*np.random.binomial(1,self.temperature,size=self.grid_size**2)\n",
    "        bonus = bonus.reshape(self.grid_size,self.grid_size)\n",
    "\n",
    "        malus = -1.0*np.random.binomial(1,self.temperature,size=self.grid_size**2)\n",
    "        malus = malus.reshape(self.grid_size, self.grid_size)\n",
    "\n",
    "        self.to_draw = np.zeros((self.max_time+2, self.grid_size*self.scale, self.grid_size*self.scale, 3))\n",
    "\n",
    "\n",
    "        malus[bonus>0]=0\n",
    "\n",
    "        self.board = bonus + malus\n",
    "\n",
    "        self.position = np.zeros((self.grid_size, self.grid_size))\n",
    "        self.position[0:2,:]= -1\n",
    "        self.position[:,0:2] = -1\n",
    "        self.position[-2:, :] = -1\n",
    "        self.position[:,-2:] = -1\n",
    "        self.board[self.x,self.y] = 0\n",
    "        self.t = 0\n",
    "\n",
    "        state = np.concatenate((\n",
    "                               self.board.reshape(self.grid_size, self.grid_size,1),\n",
    "                        self.position.reshape(self.grid_size, self.grid_size,1)),axis=2)\n",
    "\n",
    "        state = state[self.x - 2:self.x + 3, self.y - 2:self.y + 3, :]\n",
    "        return state"
   ]
  },
  {
   "cell_type": "markdown",
   "metadata": {},
   "source": [
    "The following elements are important because they correspond to the hyper parameters for this project:"
   ]
  },
  {
   "cell_type": "code",
   "execution_count": 32,
   "metadata": {},
   "outputs": [],
   "source": [
    "# parameters\n",
    "size = 13\n",
    "T=200\n",
    "temperature=0.3\n",
    "epochs_train=50 # set small when debugging\n",
    "epochs_test=11 # set small when debugging\n",
    "\n",
    "# display videos\n",
    "def display_videos(name):\n",
    "    video = io.open(name, 'r+b').read()\n",
    "    encoded = base64.b64encode(video)\n",
    "    return '''<video alt=\"test\" controls>\n",
    "                <source src=\"data:video/mp4;base64,{0}\" type=\"video/mp4\" />\n",
    "             </video>'''.format(encoded.decode('ascii'))"
   ]
  },
  {
   "cell_type": "markdown",
   "metadata": {},
   "source": [
    "__Question 2__ Explain the use of the arrays ```position``` and ```board```."
   ]
  },
  {
   "cell_type": "markdown",
   "metadata": {},
   "source": [
    "- **Position array:** the position array encodes the agent position in the grid environment. The explorable environment  has -1 in the boundaries where the rat can't go, 0 where he can actually go and finally 1 in the position where the rat is.\n",
    "\n",
    "- **Board array:** This is the grid that encodes the agent rewards. Along the game, the agent visits the board cells and receives the correspondent rewards.  Each cell of the grid is a bonus (reward = +0.5) with probability temperature and a malus (reward= -1) with probability temperature and if is not bonus, otherwise reward=0.  "
   ]
  },
  {
   "cell_type": "markdown",
   "metadata": {},
   "source": [
    "## Random Agent"
   ]
  },
  {
   "cell_type": "markdown",
   "metadata": {},
   "source": [
    "***\n",
    "__Question 3__ Implement a random Agent (only ```learned_act``` needs to be implemented):"
   ]
  },
  {
   "cell_type": "code",
   "execution_count": 33,
   "metadata": {},
   "outputs": [],
   "source": [
    "class RandomAgent(Agent):\n",
    "    def __init__(self):\n",
    "        super(RandomAgent, self).__init__()\n",
    "        pass\n",
    "\n",
    "    def learned_act(self, s):\n",
    "        return np.random.randint(0, self.n_action, size=1)[0]"
   ]
  },
  {
   "cell_type": "markdown",
   "metadata": {},
   "source": [
    "***\n",
    "***\n",
    "__Question 4__ Visualize the game moves. You need to fill in the following function for the evaluation:"
   ]
  },
  {
   "cell_type": "code",
   "execution_count": 34,
   "metadata": {},
   "outputs": [],
   "source": [
    "def test(agent,env,epochs,prefix=''):\n",
    "    # Number of won games\n",
    "    score = 0\n",
    " \n",
    "    for e in range(epochs):\n",
    "        \n",
    "        state = env.reset()\n",
    "        # This assumes that the games will end\n",
    "        game_over = False\n",
    "\n",
    "        win = 0\n",
    "        lose = 0\n",
    "        \n",
    "        \n",
    "        while not game_over:\n",
    "            \n",
    "            action = agent.act(state,train=False) #this is the main point, during the test phase we don't have to use the epsilon greedy approach\n",
    "            \n",
    "            prev_state= state\n",
    "            state,reward,game_over = env.act(action)\n",
    "            if reward >0:\n",
    "                win = win +reward \n",
    "            if reward < 0:\n",
    "                lose = lose-reward\n",
    "                \n",
    "        # Save as a mp4\n",
    "        env.draw(prefix+str(e))\n",
    "\n",
    "        # Update stats\n",
    "        score = score + win-lose\n",
    "\n",
    "        print(\"Win/lose count {}/{}. Average score ({})\"\n",
    "              .format(win, lose, score/(1+e)))\n",
    "    print('Final score: '+str(score/epochs))"
   ]
  },
  {
   "cell_type": "code",
   "execution_count": 35,
   "metadata": {},
   "outputs": [
    {
     "name": "stdout",
     "output_type": "stream",
     "text": [
      "Win/lose count 6.5/14.0. Average score (-7.5)\n",
      "Win/lose count 9.0/16.0. Average score (-7.25)\n",
      "Win/lose count 13.0/14.0. Average score (-5.166666666666667)\n",
      "Win/lose count 12.5/17.0. Average score (-5.0)\n",
      "Win/lose count 11.5/10.0. Average score (-3.7)\n",
      "Win/lose count 11.0/12.0. Average score (-3.25)\n",
      "Win/lose count 14.0/16.0. Average score (-3.0714285714285716)\n",
      "Win/lose count 10.0/16.0. Average score (-3.4375)\n",
      "Win/lose count 9.0/15.0. Average score (-3.7222222222222223)\n",
      "Win/lose count 14.5/11.0. Average score (-3.0)\n",
      "Win/lose count 9.5/11.0. Average score (-2.8636363636363638)\n",
      "Final score: -2.8636363636363638\n"
     ]
    },
    {
     "data": {
      "text/html": [
       "<video alt=\"test\" controls>\n",
       "                <source src=\"data:video/mp4;base64,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\" type=\"video/mp4\" />\n",
       "             </video>"
      ],
      "text/plain": [
       "<IPython.core.display.HTML object>"
      ]
     },
     "execution_count": 35,
     "metadata": {},
     "output_type": "execute_result"
    }
   ],
   "source": [
    "# Initialize the game\n",
    "env = Environment(grid_size=size, max_time=T,temperature=temperature)\n",
    "\n",
    "# Initialize the agent!\n",
    "agent = RandomAgent()\n",
    "\n",
    "test(agent,env,epochs_test,prefix='random')\n",
    "HTML(display_videos('random5.mp4'))"
   ]
  },
  {
   "cell_type": "markdown",
   "metadata": {},
   "source": [
    "***\n",
    "## DQN"
   ]
  },
  {
   "cell_type": "markdown",
   "metadata": {},
   "source": [
    "Let us assume here that $T=\\infty$.\n",
    "\n",
    "***\n",
    "__Question 5__ Let $\\pi$ be a policy, show that:\n",
    "\n",
    "\\begin{equation*}\n",
    "Q^{\\pi}(s,a)=E_{(s',a')\\sim p(.|s,a)}[r(s,a)+\\gamma Q^{\\pi}(s',a')]\n",
    "\\end{equation*}\n",
    "\n",
    "Then, show that for the optimal policy $\\pi^*$ (we assume its existence), the following holds: \n",
    "\n",
    "\\begin{equation*}\n",
    "Q^{*}(s,a)=E_{s'\\sim \\pi^*(.|s,a)}[r(s,a)+\\gamma\\max_{a'}Q^{*}(s',a')].\n",
    "\\end{equation*}\n",
    "Finally, deduce that a plausible objective is:\n",
    "\n",
    "\\begin{equation*}\n",
    "\\mathcal{L}(\\theta)=E_{s' \\sim \\pi^*(.|s,a)}\\Vert r+\\gamma\\max\\max_{a'}Q(s',a',\\theta)-Q(s,a,\\theta)\\Vert^{2}.\n",
    "\\end{equation*}\n",
    "\n",
    "\n"
   ]
  },
  {
   "cell_type": "markdown",
   "metadata": {},
   "source": [
    "__1.__\n",
    "\\begin{align*}\n",
    "Q^{\\pi}(s,a)&=E_{\\pi}[\\sum_{0\\leq t}\\gamma^tr(s_t,a_t)\\vert s_0=s,a_0=a] \\\\\n",
    "&= E_{\\pi}[r(s,a) + \\sum_{1\\leq t}\\gamma^tr(s_t,a_t)\\vert s_0=s,a_0=a] \\\\\n",
    "&= r(s,a) + \\sum_{a'}\\sum_{s'}p(s_1=s',a_1=a'|s_0=s,a_0=a)  \\gamma E_{\\pi}[  \\sum_{0\\leq t}\\gamma^tr(s_{t+1},a_{t+1})\\vert s_0=s,a_0=a,s_1=s',a_1=a'] \\\\\n",
    "&= r(s,a) + \\sum_{a'}\\sum_{s'}p(s_1=s',a_1=a'|s_0=s,a_0=a)  \\gamma E_{\\pi}[  \\sum_{0\\leq t}\\gamma^tr(s_{t+1},a_{t+1})\\vert s_1=s',a_1=a'] \\\\\n",
    "&= r(s,a) + \\sum_{a'}\\sum_{s'}p(s_1=s',a_1=a'|s_0=s,a_0=a)  \\gamma Q^{\\pi}(s',a') \\\\\n",
    "&= E_{(s',a')\\sim p(.|s,a)}[r(s,a)+\\gamma Q^{\\pi}(s',a')] \\\\ \n",
    "\\end{align*}\n",
    "\n",
    "__2.__\n",
    "\\begin{align*}\n",
    "    Q^*(s,a)\n",
    "    &= \\max_{\\pi}Q^\\pi(s,a) \\\\\n",
    "    &=  \\max_{\\pi} E_{(s',a')\\sim p(.|s,a)}[r(s,a)+\\gamma Q^{\\pi}(s',a')] \\\\ \n",
    "    &=  r(s,a) +  \\max_{\\pi} \\sum_{a'} \\sum_{s'} p(s_1=s', a_1=a' |s_{0}=s,a_{0}=a) \\gamma Q^{\\pi}(s',a') \\\\   \n",
    "    &=  r(s,a) +   \\sum_{a'} \\sum_{s'} p(s_1=s'|s_{0}=s,a_{0}=a) \\max_{\\pi} \\pi(a' | s') \\gamma Q^{\\pi}(s',a') \\\\ \n",
    "    &=  r(s,a) +   \\sum_{a'} \\sum_{s'} p(s_1=s'|s_{0}=s,a_{0}=a)  \\gamma \\max_{a'} Q^{*}(s',a') \\\\ \n",
    "    &= E_{s'\\sim \\pi^*(.|s,a)}[r(s,a)+\\gamma\\max_{a'}Q^{*}(s',a')] \\\\\n",
    "\\end{align*}\n",
    "\n",
    "__3.__\n",
    "The loss is simply deduced by comparing the estimation of $Q$: $Q(s,a,\\theta)$ before acting maximazing the expected reward and after getting a reward r $r+\\gamma\\max_{a'} Q(s',a',\\theta)$.\n",
    "\n",
    "It results that a plausible objective t minimize is the loss \n",
    "$$ \n",
    "\\mathcal{L}(\\theta)=E_{s' \\sim \\pi^*(.|s,a)}\\Vert r+\\gamma\\max\\max_{a'}Q(s',a',\\theta)-Q(s,a,\\theta)\\Vert^{2}\n",
    "$$\n"
   ]
  },
  {
   "cell_type": "markdown",
   "metadata": {},
   "source": [
    "***\n",
    "The DQN-learning algorithm relies on these derivations to train the parameters $\\theta$ of a Deep Neural Network:\n",
    "\n",
    "1. At the state $s_t$, select the action $a_t$ with best reward using $Q_t$ and store the results;\n",
    "\n",
    "2. Obtain the new state $s_{t+1}$ from the environment $p$;\n",
    "\n",
    "3. Store $(s_t,a_t,s_{t+1})$;\n",
    "\n",
    "4. Obtain $Q_{t+1}$ by minimizing  $\\mathcal{L}$ from a recovered batch from the previously stored results.\n",
    "\n",
    "***\n",
    "__Question 6__ Implement the class ```Memory``` that stores moves (in a replay buffer) via ```remember``` and provides a ```random_access``` to these. Specify a maximum memory size to avoid side effects. You can for example use a ```list()``` and set by default ```max_memory=100```."
   ]
  },
  {
   "cell_type": "code",
   "execution_count": 10,
   "metadata": {},
   "outputs": [],
   "source": [
    "class Memory(object):\n",
    "    def __init__(self, max_memory=100):\n",
    "        self.max_memory = max_memory\n",
    "        self.memory = list()\n",
    "\n",
    "    def remember(self, m):\n",
    "        self.memory.append(m)\n",
    "        if len(self.memory)>self.max_memory:\n",
    "            del self.memory[0]\n",
    "            \n",
    "\n",
    "    def random_access(self):\n",
    "        i = np.random.randint(0, len(self.memory), size=1)[0]\n",
    "        return self.memory[i]"
   ]
  },
  {
   "cell_type": "markdown",
   "metadata": {},
   "source": [
    "***\n",
    "The pipeline we will use for training is given below:"
   ]
  },
  {
   "cell_type": "code",
   "execution_count": 11,
   "metadata": {},
   "outputs": [],
   "source": [
    "def train(agent,env,epoch,prefix=''):\n",
    "    # Number of won games\n",
    "    score = 0\n",
    "    loss = 0\n",
    "\n",
    "    for e in range(epoch):\n",
    "        # At each epoch, we restart to a fresh game and get the initial state\n",
    "        state = env.reset()\n",
    "        # This assumes that the games will terminate\n",
    "        game_over = False\n",
    "\n",
    "        win = 0\n",
    "        lose = 0\n",
    "\n",
    "        while not game_over:\n",
    "            # The agent performs an action\n",
    "            action = agent.act(state)\n",
    "\n",
    "            # Apply an action to the environment, get the next state, the reward\n",
    "            # and if the games end\n",
    "            prev_state = state\n",
    "            state, reward, game_over = env.act(action)\n",
    "\n",
    "            # Update the counters\n",
    "            if reward > 0:\n",
    "                win = win + reward\n",
    "            if reward < 0:\n",
    "                lose = lose -reward\n",
    "\n",
    "            # Apply the reinforcement strategy\n",
    "            loss = agent.reinforce(prev_state, state,  action, reward, game_over)\n",
    "\n",
    "        # Save as a mp4\n",
    "        if e % 10 == 0:\n",
    "            env.draw(prefix+str(e))\n",
    "\n",
    "        # Update stats\n",
    "        score += win-lose\n",
    "\n",
    "        print(\"Epoch {:03d}/{:03d} | Loss {:.4f} | Win/lose count {}/{} ({})\"\n",
    "              .format(e, epoch, loss, win, lose, win-lose))\n",
    "        agent.save(name_weights=prefix+'model.h5',name_model=prefix+'model.json')"
   ]
  },
  {
   "cell_type": "markdown",
   "metadata": {},
   "source": [
    "***\n",
    "__Question 7__ Implement the DQN training algorithm using a cascade of fully connected layers. You can use different learning rate, batch size or memory size parameters. In particular, the loss might oscillate while the player will start to win the games. You have to find a good criterium."
   ]
  },
  {
   "cell_type": "code",
   "execution_count": 17,
   "metadata": {},
   "outputs": [],
   "source": [
    "class DQN(Agent):\n",
    "    def __init__(self, grid_size,  epsilon = 0.1, memory_size=100, batch_size = 16,n_state=2):\n",
    "        super(DQN, self).__init__(epsilon = epsilon)\n",
    "\n",
    "        # Discount for Q learning\n",
    "        self.discount = 0.99\n",
    "        \n",
    "        self.grid_size = grid_size\n",
    "        \n",
    "        # number of state\n",
    "        self.n_state = n_state\n",
    "\n",
    "        # Memory\n",
    "        self.memory = Memory(memory_size)\n",
    "        \n",
    "        # Batch size when learning\n",
    "        self.batch_size = batch_size\n",
    "\n",
    "    def learned_act(self, s):\n",
    "        pred_act = self.model.predict(s.reshape(1,5,5,self.n_state))\n",
    "        return np.argmax(pred_act)  \n",
    "        \n",
    "            \n",
    "    def reinforce(self, s_, n_s_, a_, r_, game_over_):\n",
    "        # Two steps: first memorize the states, second learn from the pool\n",
    "        \n",
    "        self.memory.remember([s_, n_s_, a_, r_, game_over_])\n",
    "        input_states = np.zeros((self.batch_size, 5,5,self.n_state))\n",
    "        target_q = np.zeros((self.batch_size, 4))       \n",
    "\n",
    "        for i in range(self.batch_size):\n",
    "            ######## FILL IN\n",
    "            s, n_s, a, r, game_over  =  self.memory.random_access() \n",
    "            input_states[i]=s\n",
    "            target_q[i] = self.model.predict(s.reshape(1,5,5,self.n_state))[0]\n",
    "            if game_over:\n",
    "                ######## FILL IN\n",
    "                target_q[i][a] = r\n",
    "            else:\n",
    "                ######## FILL IN\n",
    "                target_q[i][a]  = r + self.discount*max(self.model.predict(n_s.reshape(1,5,5,self.n_state))[0])\n",
    "                \n",
    "        ######## FILL IN\n",
    "        # HINT: Clip the target to avoid exploiding gradients.. -- clipping is a bit tighter\n",
    "        target_q = np.clip(target_q, -3, 3)\n",
    "        \n",
    "        l = self.model.train_on_batch(input_states, target_q)\n",
    "\n",
    "        return l\n",
    "\n",
    "    def save(self,name_weights='model.h5',name_model='model.json'):\n",
    "        self.model.save_weights(name_weights, overwrite=True)\n",
    "        with open(name_model, \"w\") as outfile:\n",
    "            json.dump(self.model.to_json(), outfile)\n",
    "            \n",
    "    def load(self,name_weights='model.h5',name_model='model.json'):\n",
    "        with open(name_model, \"r\") as jfile:\n",
    "            model = model_from_json(json.load(jfile))\n",
    "        model.load_weights(name_weights)\n",
    "        model.compile(\"sgd\", \"mse\")\n",
    "        self.model = model\n",
    "\n",
    "            \n",
    "class DQN_FC(DQN):\n",
    "    def __init__(self, *args, lr=0.01,**kwargs):\n",
    "        super(DQN_FC, self).__init__( *args,**kwargs)\n",
    "        \n",
    "        # NN Model\n",
    "        \n",
    "        ####### FILL IN \n",
    "        \n",
    "        model = Sequential()\n",
    "        model.add(Flatten(input_shape=(5,5,self.n_state)))\n",
    "        model.add(Dense(32,activation='relu'))\n",
    "        #model.add(Dense(16,activation='relu'))\n",
    "        #model.add(Dense(16,activation='relu'))\n",
    "        model.add(Dense(4,activation='relu'))\n",
    "        \n",
    "        model.compile(sgd(lr=lr, decay=1e-4, momentum=0.0), \"mse\")\n",
    "        self.model = model\n",
    "        model.summary()"
   ]
  },
  {
   "cell_type": "code",
   "execution_count": 19,
   "metadata": {},
   "outputs": [
    {
     "name": "stdout",
     "output_type": "stream",
     "text": [
      "_________________________________________________________________\n",
      "Layer (type)                 Output Shape              Param #   \n",
      "=================================================================\n",
      "flatten_4 (Flatten)          (None, 50)                0         \n",
      "_________________________________________________________________\n",
      "dense_9 (Dense)              (None, 32)                1632      \n",
      "_________________________________________________________________\n",
      "dense_10 (Dense)             (None, 4)                 132       \n",
      "=================================================================\n",
      "Total params: 1,764\n",
      "Trainable params: 1,764\n",
      "Non-trainable params: 0\n",
      "_________________________________________________________________\n",
      "Epoch 000/050 | Loss 0.0062 | Win/lose count 3.0/4.0 (-1.0)\n",
      "Epoch 001/050 | Loss 0.0068 | Win/lose count 3.5/6.0 (-2.5)\n",
      "Epoch 002/050 | Loss 0.0240 | Win/lose count 3.5/3.0 (0.5)\n",
      "Epoch 003/050 | Loss 0.0099 | Win/lose count 4.5/1.0 (3.5)\n",
      "Epoch 004/050 | Loss 0.0129 | Win/lose count 4.0/3.0 (1.0)\n",
      "Epoch 005/050 | Loss 0.0254 | Win/lose count 3.0/3.0 (0.0)\n",
      "Epoch 006/050 | Loss 0.0069 | Win/lose count 1.5/1.0 (0.5)\n",
      "Epoch 007/050 | Loss 0.0062 | Win/lose count 2.5/4.0 (-1.5)\n",
      "Epoch 008/050 | Loss 0.0052 | Win/lose count 0/2.0 (-2.0)\n",
      "Epoch 009/050 | Loss 0.0037 | Win/lose count 2.5/3.0 (-0.5)\n",
      "Epoch 010/050 | Loss 0.0116 | Win/lose count 1.5/2.0 (-0.5)\n",
      "Epoch 011/050 | Loss 0.0090 | Win/lose count 1.5/1.0 (0.5)\n",
      "Epoch 012/050 | Loss 0.0026 | Win/lose count 3.5/3.0 (0.5)\n",
      "Epoch 013/050 | Loss 0.0074 | Win/lose count 4.0/7.0 (-3.0)\n",
      "Epoch 014/050 | Loss 0.0059 | Win/lose count 4.0/5.0 (-1.0)\n",
      "Epoch 015/050 | Loss 0.0433 | Win/lose count 5.0/4.0 (1.0)\n",
      "Epoch 016/050 | Loss 0.0045 | Win/lose count 3.5/2.0 (1.5)\n",
      "Epoch 017/050 | Loss 0.0283 | Win/lose count 2.0/2.0 (0.0)\n",
      "Epoch 018/050 | Loss 0.0031 | Win/lose count 8.0/7.0 (1.0)\n",
      "Epoch 019/050 | Loss 0.0070 | Win/lose count 2.5/1.0 (1.5)\n",
      "Epoch 020/050 | Loss 0.0169 | Win/lose count 2.5/4.0 (-1.5)\n",
      "Epoch 021/050 | Loss 0.0156 | Win/lose count 2.0/0 (2.0)\n",
      "Epoch 022/050 | Loss 0.0079 | Win/lose count 3.5/4.0 (-0.5)\n",
      "Epoch 023/050 | Loss 0.0034 | Win/lose count 5.5/1.0 (4.5)\n",
      "Epoch 024/050 | Loss 0.0127 | Win/lose count 7.0/2.0 (5.0)\n",
      "Epoch 025/050 | Loss 0.0077 | Win/lose count 5.0/6.0 (-1.0)\n",
      "Epoch 026/050 | Loss 0.0023 | Win/lose count 7.0/3.0 (4.0)\n",
      "Epoch 027/050 | Loss 0.0019 | Win/lose count 7.0/3.0 (4.0)\n",
      "Epoch 028/050 | Loss 0.0027 | Win/lose count 1.0/0 (1.0)\n",
      "Epoch 029/050 | Loss 0.0052 | Win/lose count 9.0/1.0 (8.0)\n",
      "Epoch 030/050 | Loss 0.0049 | Win/lose count 3.5/3.0 (0.5)\n",
      "Epoch 031/050 | Loss 0.0117 | Win/lose count 4.0/0 (4.0)\n",
      "Epoch 032/050 | Loss 0.0081 | Win/lose count 10.5/6.0 (4.5)\n",
      "Epoch 033/050 | Loss 0.0062 | Win/lose count 9.5/3.0 (6.5)\n",
      "Epoch 034/050 | Loss 0.0025 | Win/lose count 13.0/1.0 (12.0)\n",
      "Epoch 035/050 | Loss 0.0053 | Win/lose count 9.5/3.0 (6.5)\n",
      "Epoch 036/050 | Loss 0.0593 | Win/lose count 10.0/3.0 (7.0)\n",
      "Epoch 037/050 | Loss 0.0028 | Win/lose count 10.5/1.0 (9.5)\n",
      "Epoch 038/050 | Loss 0.0629 | Win/lose count 5.5/4.0 (1.5)\n",
      "Epoch 039/050 | Loss 0.0022 | Win/lose count 4.5/1.0 (3.5)\n",
      "Epoch 040/050 | Loss 0.0043 | Win/lose count 12.5/0 (12.5)\n",
      "Epoch 041/050 | Loss 0.0024 | Win/lose count 8.5/3.0 (5.5)\n",
      "Epoch 042/050 | Loss 0.0047 | Win/lose count 5.0/0 (5.0)\n",
      "Epoch 043/050 | Loss 0.0028 | Win/lose count 5.0/0 (5.0)\n",
      "Epoch 044/050 | Loss 0.0079 | Win/lose count 4.5/1.0 (3.5)\n",
      "Epoch 045/050 | Loss 0.0578 | Win/lose count 7.5/0 (7.5)\n",
      "Epoch 046/050 | Loss 0.0025 | Win/lose count 11.5/2.0 (9.5)\n",
      "Epoch 047/050 | Loss 0.0511 | Win/lose count 6.0/4.0 (2.0)\n",
      "Epoch 048/050 | Loss 0.0040 | Win/lose count 7.5/3.0 (4.5)\n",
      "Epoch 049/050 | Loss 0.0030 | Win/lose count 2.5/4.0 (-1.5)\n"
     ]
    },
    {
     "data": {
      "text/html": [
       "<video alt=\"test\" controls>\n",
       "                <source src=\"data:video/mp4;base64,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\" type=\"video/mp4\" />\n",
       "             </video>"
      ],
      "text/plain": [
       "<IPython.core.display.HTML object>"
      ]
     },
     "execution_count": 19,
     "metadata": {},
     "output_type": "execute_result"
    }
   ],
   "source": [
    "env = Environment(grid_size=size, max_time=T, temperature=0.3)\n",
    "agent = DQN_FC(size, lr=.1, epsilon = 0.1, memory_size=2000, batch_size = 32)\n",
    "train(agent, env, epochs_train, prefix='fc_train')\n",
    "HTML(display_videos('fc_train10.mp4'))"
   ]
  },
  {
   "cell_type": "markdown",
   "metadata": {},
   "source": [
    "***\n",
    "***\n",
    "__Question 8__ Implement the DQN training algorithm using a CNN (for example, 2 convolutional layers and one final fully connected layer)."
   ]
  },
  {
   "cell_type": "code",
   "execution_count": 22,
   "metadata": {},
   "outputs": [],
   "source": [
    "class DQN_CNN(DQN):\n",
    "    def __init__(self, *args,lr=0.1,**kwargs):\n",
    "        super(DQN_CNN, self).__init__(*args,**kwargs)\n",
    "        \n",
    "        model = Sequential()\n",
    "        model.add(Conv2D(50,(2,2),input_shape=(5,5,self.n_state,),activation='relu'))\n",
    "        model.add(Conv2D(30,(2,2),activation='relu'))\n",
    "        model.add(Flatten())\n",
    "        model.add(Dense(4))\n",
    "        model.compile(sgd(lr=lr, decay=1e-4, momentum=0.0), \"mse\")\n",
    "        self.model = model\n",
    "        "
   ]
  },
  {
   "cell_type": "code",
   "execution_count": 23,
   "metadata": {},
   "outputs": [
    {
     "name": "stdout",
     "output_type": "stream",
     "text": [
      "Epoch 000/050 | Loss 0.0135 | Win/lose count 6.0/8.0 (-2.0)\n",
      "Epoch 001/050 | Loss 0.0015 | Win/lose count 3.0/2.0 (1.0)\n",
      "Epoch 002/050 | Loss 0.0057 | Win/lose count 3.0/1.0 (2.0)\n",
      "Epoch 003/050 | Loss 0.0026 | Win/lose count 5.0/5.0 (0.0)\n",
      "Epoch 004/050 | Loss 0.0029 | Win/lose count 3.5/1.0 (2.5)\n",
      "Epoch 005/050 | Loss 0.0068 | Win/lose count 5.5/3.0 (2.5)\n",
      "Epoch 006/050 | Loss 0.0046 | Win/lose count 3.5/1.0 (2.5)\n",
      "Epoch 007/050 | Loss 0.0077 | Win/lose count 7.0/2.0 (5.0)\n",
      "Epoch 008/050 | Loss 0.0022 | Win/lose count 1.5/2.0 (-0.5)\n",
      "Epoch 009/050 | Loss 0.0058 | Win/lose count 7.0/2.0 (5.0)\n",
      "Epoch 010/050 | Loss 0.0048 | Win/lose count 7.5/3.0 (4.5)\n",
      "Epoch 011/050 | Loss 0.0019 | Win/lose count 3.0/1.0 (2.0)\n",
      "Epoch 012/050 | Loss 0.0030 | Win/lose count 4.5/2.0 (2.5)\n",
      "Epoch 013/050 | Loss 0.0032 | Win/lose count 7.5/0 (7.5)\n",
      "Epoch 014/050 | Loss 0.0025 | Win/lose count 6.0/2.0 (4.0)\n",
      "Epoch 015/050 | Loss 0.0011 | Win/lose count 13.0/3.0 (10.0)\n",
      "Epoch 016/050 | Loss 0.0013 | Win/lose count 9.5/4.0 (5.5)\n",
      "Epoch 017/050 | Loss 0.0041 | Win/lose count 3.0/1.0 (2.0)\n",
      "Epoch 018/050 | Loss 0.0027 | Win/lose count 18.0/2.0 (16.0)\n",
      "Epoch 019/050 | Loss 0.0014 | Win/lose count 7.5/3.0 (4.5)\n",
      "Epoch 020/050 | Loss 0.0025 | Win/lose count 13.0/1.0 (12.0)\n",
      "Epoch 021/050 | Loss 0.0020 | Win/lose count 13.5/2.0 (11.5)\n",
      "Epoch 022/050 | Loss 0.0024 | Win/lose count 14.5/4.0 (10.5)\n",
      "Epoch 023/050 | Loss 0.0508 | Win/lose count 4.5/4.0 (0.5)\n",
      "Epoch 024/050 | Loss 0.0021 | Win/lose count 20.5/1.0 (19.5)\n",
      "Epoch 025/050 | Loss 0.0021 | Win/lose count 9.5/2.0 (7.5)\n",
      "Epoch 026/050 | Loss 0.0026 | Win/lose count 7.0/3.0 (4.0)\n",
      "Epoch 027/050 | Loss 0.0453 | Win/lose count 18.5/1.0 (17.5)\n",
      "Epoch 028/050 | Loss 0.0517 | Win/lose count 9.0/3.0 (6.0)\n",
      "Epoch 029/050 | Loss 0.0027 | Win/lose count 10.0/3.0 (7.0)\n",
      "Epoch 030/050 | Loss 0.0019 | Win/lose count 18.0/0 (18.0)\n",
      "Epoch 031/050 | Loss 0.0516 | Win/lose count 15.5/5.0 (10.5)\n",
      "Epoch 032/050 | Loss 0.0026 | Win/lose count 17.5/2.0 (15.5)\n",
      "Epoch 033/050 | Loss 0.0466 | Win/lose count 9.0/4.0 (5.0)\n",
      "Epoch 034/050 | Loss 0.0022 | Win/lose count 11.0/2.0 (9.0)\n",
      "Epoch 035/050 | Loss 0.0561 | Win/lose count 15.0/0 (15.0)\n",
      "Epoch 036/050 | Loss 0.0023 | Win/lose count 5.0/0 (5.0)\n",
      "Epoch 037/050 | Loss 0.0022 | Win/lose count 20.0/2.0 (18.0)\n",
      "Epoch 038/050 | Loss 0.0030 | Win/lose count 16.5/4.0 (12.5)\n",
      "Epoch 039/050 | Loss 0.1002 | Win/lose count 16.5/3.0 (13.5)\n",
      "Epoch 040/050 | Loss 0.0013 | Win/lose count 15.0/2.0 (13.0)\n",
      "Epoch 041/050 | Loss 0.0037 | Win/lose count 19.5/5.0 (14.5)\n",
      "Epoch 042/050 | Loss 0.0020 | Win/lose count 23.0/4.0 (19.0)\n",
      "Epoch 043/050 | Loss 0.0038 | Win/lose count 19.5/4.0 (15.5)\n",
      "Epoch 044/050 | Loss 0.0569 | Win/lose count 13.5/2.0 (11.5)\n",
      "Epoch 045/050 | Loss 0.0567 | Win/lose count 13.0/2.0 (11.0)\n",
      "Epoch 046/050 | Loss 0.0032 | Win/lose count 8.0/2.0 (6.0)\n",
      "Epoch 047/050 | Loss 0.0032 | Win/lose count 14.0/3.0 (11.0)\n",
      "Epoch 048/050 | Loss 0.0032 | Win/lose count 22.5/2.0 (20.5)\n",
      "Epoch 049/050 | Loss 0.0020 | Win/lose count 21.0/5.0 (16.0)\n"
     ]
    },
    {
     "data": {
      "text/html": [
       "<video alt=\"test\" controls>\n",
       "                <source src=\"data:video/mp4;base64,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\" type=\"video/mp4\" />\n",
       "             </video>"
      ],
      "text/plain": [
       "<IPython.core.display.HTML object>"
      ]
     },
     "execution_count": 23,
     "metadata": {},
     "output_type": "execute_result"
    }
   ],
   "source": [
    "env = Environment(grid_size=size, max_time=T, temperature=0.3)\n",
    "agent = DQN_CNN(size, lr=.1, epsilon = 0.1, memory_size=2000, batch_size = 32)\n",
    "train(agent,env,epochs_train,prefix='cnn_train')\n",
    "HTML(display_videos('cnn_train10.mp4'))"
   ]
  },
  {
   "cell_type": "markdown",
   "metadata": {},
   "source": [
    "***\n",
    "***\n",
    "__Question 9__ Test both algorithms and compare their performances. Which issue(s) do you observe? Observe also different behaviors by changing the temperature."
   ]
  },
  {
   "cell_type": "markdown",
   "metadata": {},
   "source": [
    "- The CNN model outperforms the FC model as illustrated by the achieved training scores and by the comparison of the test scores. In fact, convolutional layers achieve better results in fewer training epochs, which makes this model more efficient in terms of model relevance and computaional cost. \n",
    "- We notice that the rat may get stuck in a number of already visited cells. This is due to the learning process that encourages the agent to stay in visited cells (reward=0) instead of exploring what is behind the neighbor malus cells. \n",
    "- When augmenting the temperature, more bonus and malus cells are created. Considering the fact that the bonus are almost surely a.s. augmented more than the malus the rat has more positive rewards ratio to collect and hence the final reward clearly increases. "
   ]
  },
  {
   "cell_type": "code",
   "execution_count": 25,
   "metadata": {},
   "outputs": [
    {
     "name": "stdout",
     "output_type": "stream",
     "text": [
      "_________________________________________________________________\n",
      "Layer (type)                 Output Shape              Param #   \n",
      "=================================================================\n",
      "flatten_10 (Flatten)         (None, 50)                0         \n",
      "_________________________________________________________________\n",
      "dense_18 (Dense)             (None, 32)                1632      \n",
      "_________________________________________________________________\n",
      "dense_19 (Dense)             (None, 4)                 132       \n",
      "=================================================================\n",
      "Total params: 1,764\n",
      "Trainable params: 1,764\n",
      "Non-trainable params: 0\n",
      "_________________________________________________________________\n",
      "Test of the CNN\n",
      "Win/lose count 8.0/0. Average score (8.0)\n",
      "Win/lose count 6.5/0. Average score (7.25)\n",
      "Win/lose count 1.0/0. Average score (5.166666666666667)\n",
      "Win/lose count 9.5/0. Average score (6.25)\n",
      "Win/lose count 6.5/1.0. Average score (6.1)\n",
      "Win/lose count 6.5/0. Average score (6.166666666666667)\n",
      "Win/lose count 11.5/0. Average score (6.928571428571429)\n",
      "Win/lose count 1.0/0. Average score (6.1875)\n",
      "Win/lose count 13.5/0. Average score (7.0)\n",
      "Win/lose count 24.5/0. Average score (8.75)\n",
      "Win/lose count 3.0/0. Average score (8.227272727272727)\n",
      "Final score: 8.227272727272727\n",
      "Test of the FC\n",
      "Win/lose count 0.5/0. Average score (0.5)\n",
      "Win/lose count 1.0/0. Average score (0.75)\n",
      "Win/lose count 1.5/0. Average score (1.0)\n",
      "Win/lose count 1.0/0. Average score (1.0)\n",
      "Win/lose count 1.0/0. Average score (1.0)\n",
      "Win/lose count 1.0/0. Average score (1.0)\n",
      "Win/lose count 2.0/0. Average score (1.1428571428571428)\n",
      "Win/lose count 3.5/0. Average score (1.4375)\n",
      "Win/lose count 5.5/0. Average score (1.8888888888888888)\n",
      "Win/lose count 5.5/0. Average score (2.25)\n",
      "Win/lose count 0.5/0. Average score (2.090909090909091)\n",
      "Final score: 2.090909090909091\n"
     ]
    }
   ],
   "source": [
    "env = Environment(grid_size=size, max_time=T,temperature=0.3) \n",
    "agent_cnn = DQN_CNN(size, lr=.1, epsilon = 0.1, memory_size=2000, batch_size = 32)\n",
    "agent_cnn.load(name_weights='cnn_trainmodel.h5',name_model='cnn_trainmodel.json')\n",
    "\n",
    "agent_fc = DQN_FC(size, lr=.1, epsilon = 0.1, memory_size=2000, batch_size = 32)\n",
    "agent_fc.load(name_weights='fc_trainmodel.h5',name_model='fc_trainmodel.json')\n",
    "print('Test of the CNN')\n",
    "test(agent_cnn,env,epochs_test,prefix='cnn_test')\n",
    "print('Test of the FC')\n",
    "test(agent_fc,env,epochs_test,prefix='fc_test')"
   ]
  },
  {
   "cell_type": "code",
   "execution_count": 26,
   "metadata": {},
   "outputs": [
    {
     "data": {
      "text/html": [
       "<video alt=\"test\" controls>\n",
       "                <source src=\"data:video/mp4;base64,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\" type=\"video/mp4\" />\n",
       "             </video>"
      ],
      "text/plain": [
       "<IPython.core.display.HTML object>"
      ]
     },
     "execution_count": 26,
     "metadata": {},
     "output_type": "execute_result"
    }
   ],
   "source": [
    "HTML(display_videos('cnn_test10.mp4'))"
   ]
  },
  {
   "cell_type": "code",
   "execution_count": 27,
   "metadata": {},
   "outputs": [
    {
     "data": {
      "text/html": [
       "<video alt=\"test\" controls>\n",
       "                <source src=\"data:video/mp4;base64,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\" type=\"video/mp4\" />\n",
       "             </video>"
      ],
      "text/plain": [
       "<IPython.core.display.HTML object>"
      ]
     },
     "execution_count": 27,
     "metadata": {},
     "output_type": "execute_result"
    }
   ],
   "source": [
    "HTML(display_videos('fc_test10.mp4'))"
   ]
  },
  {
   "cell_type": "markdown",
   "metadata": {},
   "source": [
    "***\n",
    "\n",
    "The algorithm tends to not explore the map which can be an issue. We propose two ideas in order to encourage exploration:\n",
    "1. Incorporating a decreasing $\\epsilon$-greedy exploration. You can use the method ```set_epsilon```\n",
    "2. Append via the environment a new state that describes if a cell has been visited or not\n",
    "\n",
    "***\n",
    "__Question 10__ Design a new ```train_explore``` function and environment class ```EnvironmentExploring``` to tackle the issue of exploration.\n",
    "\n"
   ]
  },
  {
   "cell_type": "code",
   "execution_count": null,
   "metadata": {},
   "outputs": [],
   "source": [
    "def train_explore(agent,env,epoch,prefix=''):\n",
    "    pass\n",
    "        \n",
    "class EnvironmentExploring(object):\n",
    "    def __init__(self, grid_size=10, max_time=500, temperature=0.1):\n",
    "        pass\n",
    "    \n",
    "## use those samples of code:\n",
    "#In train explore:\n",
    "state, reward, game_over = env.act(action, train=True)\n",
    "\n",
    "## In Environment exploring:\n",
    "# You will have to change n_state to 3 because you will use one more layer!\n",
    "reward = 0\n",
    "if train:\n",
    "    reward = -self.malus_position[self.x, self.y]\n",
    "self.malus_position[self.x, self.y] = 0.1\n",
    "\n",
    "reward = reward + self.board[self.x, self.y]\n",
    "# 3 \"feature\" states instead of 2\n",
    "state = np.concatenate((self.malus_position.reshape(self.grid_size, self.grid_size,1),\n",
    "                                self.board.reshape(self.grid_size, self.grid_size,1),\n",
    "                        self.position.reshape(self.grid_size, self.grid_size,1)),axis=2)"
   ]
  },
  {
   "cell_type": "code",
   "execution_count": null,
   "metadata": {},
   "outputs": [],
   "source": [
    "# Training\n",
    "env = EnvironmentExploring(grid_size=size, max_time=T, temperature=0.3)\n",
    "agent = DQN_CNN(size, lr=.1, epsilon = 0.1, memory_size=2000, batch_size = 32,n_state=3)\n",
    "train_explore(agent, env, epochs_train, prefix='cnn_train_explore')\n",
    "HTML(display_videos('cnn_train_explore10.mp4'))"
   ]
  },
  {
   "cell_type": "code",
   "execution_count": null,
   "metadata": {},
   "outputs": [],
   "source": [
    "# Evaluation\n",
    "test(agent,env,epochs_test,prefix='cnn_test_explore')\n",
    "HTML(display_videos('cnn_test_explore10.mp4'))"
   ]
  },
  {
   "cell_type": "markdown",
   "metadata": {},
   "source": [
    "***\n",
    "***\n",
    "__BONUS question__ Use the expert DQN from the previous question to generate some winning games. Train a model that mimicks its behavior. Compare the performances."
   ]
  },
  {
   "cell_type": "code",
   "execution_count": null,
   "metadata": {},
   "outputs": [],
   "source": []
  }
 ],
 "metadata": {
  "anaconda-cloud": {},
  "kernelspec": {
   "display_name": "Python 3",
   "language": "python",
   "name": "python3"
  },
  "language_info": {
   "codemirror_mode": {
    "name": "ipython",
    "version": 3
   },
   "file_extension": ".py",
   "mimetype": "text/x-python",
   "name": "python",
   "nbconvert_exporter": "python",
   "pygments_lexer": "ipython3",
   "version": "3.7.2"
  }
 },
 "nbformat": 4,
 "nbformat_minor": 2
}
